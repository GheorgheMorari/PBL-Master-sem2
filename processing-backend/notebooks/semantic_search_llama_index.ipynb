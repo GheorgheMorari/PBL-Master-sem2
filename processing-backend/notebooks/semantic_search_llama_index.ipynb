{
 "cells": [
  {
   "metadata": {
    "ExecuteTime": {
     "end_time": "2024-05-23T22:11:27.643974Z",
     "start_time": "2024-05-23T22:11:23.724835Z"
    }
   },
   "cell_type": "code",
   "source": [
    "\n",
    "!pip install llama-index-vector-stores-postgres\n"
   ],
   "id": "ef9ba5b00ef5fa34",
   "outputs": [
    {
     "name": "stdout",
     "output_type": "stream",
     "text": [
      "Collecting llama-index-vector-stores-postgres\r\n",
      "  Obtaining dependency information for llama-index-vector-stores-postgres from https://files.pythonhosted.org/packages/ae/08/6bf8d2a046437c891dfa2a37836eec341ddf1ff160abfdf3cf4fb3d90e5f/llama_index_vector_stores_postgres-0.1.7-py3-none-any.whl.metadata\r\n",
      "  Downloading llama_index_vector_stores_postgres-0.1.7-py3-none-any.whl.metadata (803 bytes)\r\n",
      "Collecting asyncpg<0.30.0,>=0.29.0 (from llama-index-vector-stores-postgres)\r\n",
      "  Obtaining dependency information for asyncpg<0.30.0,>=0.29.0 from https://files.pythonhosted.org/packages/99/38/0bfb00e9b828513bd759174860fd2b1c5e36d0b33985c90ff4ed6f96814c/asyncpg-0.29.0-cp312-cp312-manylinux_2_17_x86_64.manylinux2014_x86_64.whl.metadata\r\n",
      "  Downloading asyncpg-0.29.0-cp312-cp312-manylinux_2_17_x86_64.manylinux2014_x86_64.whl.metadata (4.4 kB)\r\n",
      "Requirement already satisfied: llama-index-core<0.11.0,>=0.10.20 in /home/jorj/Uni/PBL-Master-sem2/venv/lib/python3.12/site-packages (from llama-index-vector-stores-postgres) (0.10.38.post2)\r\n",
      "Collecting pgvector<0.3.0,>=0.2.4 (from llama-index-vector-stores-postgres)\r\n",
      "  Obtaining dependency information for pgvector<0.3.0,>=0.2.4 from https://files.pythonhosted.org/packages/29/bb/4686b1090a7c68fa367e981130a074dc6c1236571d914ffa6e05c882b59d/pgvector-0.2.5-py2.py3-none-any.whl.metadata\r\n",
      "  Downloading pgvector-0.2.5-py2.py3-none-any.whl.metadata (9.9 kB)\r\n",
      "Collecting psycopg2-binary<3.0.0,>=2.9.9 (from llama-index-vector-stores-postgres)\r\n",
      "  Obtaining dependency information for psycopg2-binary<3.0.0,>=2.9.9 from https://files.pythonhosted.org/packages/19/57/9f172b900795ea37246c78b5f52e00f4779984370855b3e161600156906d/psycopg2_binary-2.9.9-cp312-cp312-manylinux_2_17_x86_64.manylinux2014_x86_64.whl.metadata\r\n",
      "  Downloading psycopg2_binary-2.9.9-cp312-cp312-manylinux_2_17_x86_64.manylinux2014_x86_64.whl.metadata (4.4 kB)\r\n",
      "Requirement already satisfied: sqlalchemy[asyncio]<3.0.0,>=2.0.25 in /home/jorj/Uni/PBL-Master-sem2/venv/lib/python3.12/site-packages (from llama-index-vector-stores-postgres) (2.0.30)\r\n",
      "Requirement already satisfied: PyYAML>=6.0.1 in /home/jorj/Uni/PBL-Master-sem2/venv/lib/python3.12/site-packages (from llama-index-core<0.11.0,>=0.10.20->llama-index-vector-stores-postgres) (6.0.1)\r\n",
      "Requirement already satisfied: aiohttp<4.0.0,>=3.8.6 in /home/jorj/Uni/PBL-Master-sem2/venv/lib/python3.12/site-packages (from llama-index-core<0.11.0,>=0.10.20->llama-index-vector-stores-postgres) (3.9.5)\r\n",
      "Requirement already satisfied: dataclasses-json in /home/jorj/Uni/PBL-Master-sem2/venv/lib/python3.12/site-packages (from llama-index-core<0.11.0,>=0.10.20->llama-index-vector-stores-postgres) (0.6.6)\r\n",
      "Requirement already satisfied: deprecated>=1.2.9.3 in /home/jorj/Uni/PBL-Master-sem2/venv/lib/python3.12/site-packages (from llama-index-core<0.11.0,>=0.10.20->llama-index-vector-stores-postgres) (1.2.14)\r\n",
      "Requirement already satisfied: dirtyjson<2.0.0,>=1.0.8 in /home/jorj/Uni/PBL-Master-sem2/venv/lib/python3.12/site-packages (from llama-index-core<0.11.0,>=0.10.20->llama-index-vector-stores-postgres) (1.0.8)\r\n",
      "Requirement already satisfied: fsspec>=2023.5.0 in /home/jorj/Uni/PBL-Master-sem2/venv/lib/python3.12/site-packages (from llama-index-core<0.11.0,>=0.10.20->llama-index-vector-stores-postgres) (2024.5.0)\r\n",
      "Requirement already satisfied: httpx in /home/jorj/Uni/PBL-Master-sem2/venv/lib/python3.12/site-packages (from llama-index-core<0.11.0,>=0.10.20->llama-index-vector-stores-postgres) (0.27.0)\r\n",
      "Requirement already satisfied: llamaindex-py-client<0.2.0,>=0.1.18 in /home/jorj/Uni/PBL-Master-sem2/venv/lib/python3.12/site-packages (from llama-index-core<0.11.0,>=0.10.20->llama-index-vector-stores-postgres) (0.1.19)\r\n",
      "Requirement already satisfied: nest-asyncio<2.0.0,>=1.5.8 in /home/jorj/Uni/PBL-Master-sem2/venv/lib/python3.12/site-packages (from llama-index-core<0.11.0,>=0.10.20->llama-index-vector-stores-postgres) (1.6.0)\r\n",
      "Requirement already satisfied: networkx>=3.0 in /home/jorj/Uni/PBL-Master-sem2/venv/lib/python3.12/site-packages (from llama-index-core<0.11.0,>=0.10.20->llama-index-vector-stores-postgres) (3.3)\r\n",
      "Requirement already satisfied: nltk<4.0.0,>=3.8.1 in /home/jorj/Uni/PBL-Master-sem2/venv/lib/python3.12/site-packages (from llama-index-core<0.11.0,>=0.10.20->llama-index-vector-stores-postgres) (3.8.1)\r\n",
      "Requirement already satisfied: numpy in /home/jorj/Uni/PBL-Master-sem2/venv/lib/python3.12/site-packages (from llama-index-core<0.11.0,>=0.10.20->llama-index-vector-stores-postgres) (1.26.4)\r\n",
      "Requirement already satisfied: openai>=1.1.0 in /home/jorj/Uni/PBL-Master-sem2/venv/lib/python3.12/site-packages (from llama-index-core<0.11.0,>=0.10.20->llama-index-vector-stores-postgres) (1.30.2)\r\n",
      "Requirement already satisfied: pandas in /home/jorj/Uni/PBL-Master-sem2/venv/lib/python3.12/site-packages (from llama-index-core<0.11.0,>=0.10.20->llama-index-vector-stores-postgres) (2.2.2)\r\n",
      "Requirement already satisfied: pillow>=9.0.0 in /home/jorj/Uni/PBL-Master-sem2/venv/lib/python3.12/site-packages (from llama-index-core<0.11.0,>=0.10.20->llama-index-vector-stores-postgres) (10.3.0)\r\n",
      "Requirement already satisfied: requests>=2.31.0 in /home/jorj/Uni/PBL-Master-sem2/venv/lib/python3.12/site-packages (from llama-index-core<0.11.0,>=0.10.20->llama-index-vector-stores-postgres) (2.32.2)\r\n",
      "Requirement already satisfied: tenacity<9.0.0,>=8.2.0 in /home/jorj/Uni/PBL-Master-sem2/venv/lib/python3.12/site-packages (from llama-index-core<0.11.0,>=0.10.20->llama-index-vector-stores-postgres) (8.3.0)\r\n",
      "Requirement already satisfied: tiktoken>=0.3.3 in /home/jorj/Uni/PBL-Master-sem2/venv/lib/python3.12/site-packages (from llama-index-core<0.11.0,>=0.10.20->llama-index-vector-stores-postgres) (0.7.0)\r\n",
      "Requirement already satisfied: tqdm<5.0.0,>=4.66.1 in /home/jorj/Uni/PBL-Master-sem2/venv/lib/python3.12/site-packages (from llama-index-core<0.11.0,>=0.10.20->llama-index-vector-stores-postgres) (4.66.4)\r\n",
      "Requirement already satisfied: typing-extensions>=4.5.0 in /home/jorj/Uni/PBL-Master-sem2/venv/lib/python3.12/site-packages (from llama-index-core<0.11.0,>=0.10.20->llama-index-vector-stores-postgres) (4.11.0)\r\n",
      "Requirement already satisfied: typing-inspect>=0.8.0 in /home/jorj/Uni/PBL-Master-sem2/venv/lib/python3.12/site-packages (from llama-index-core<0.11.0,>=0.10.20->llama-index-vector-stores-postgres) (0.9.0)\r\n",
      "Requirement already satisfied: wrapt in /home/jorj/Uni/PBL-Master-sem2/venv/lib/python3.12/site-packages (from llama-index-core<0.11.0,>=0.10.20->llama-index-vector-stores-postgres) (1.16.0)\r\n",
      "Requirement already satisfied: greenlet!=0.4.17 in /home/jorj/Uni/PBL-Master-sem2/venv/lib/python3.12/site-packages (from sqlalchemy[asyncio]<3.0.0,>=2.0.25->llama-index-vector-stores-postgres) (3.0.3)\r\n",
      "Requirement already satisfied: aiosignal>=1.1.2 in /home/jorj/Uni/PBL-Master-sem2/venv/lib/python3.12/site-packages (from aiohttp<4.0.0,>=3.8.6->llama-index-core<0.11.0,>=0.10.20->llama-index-vector-stores-postgres) (1.3.1)\r\n",
      "Requirement already satisfied: attrs>=17.3.0 in /home/jorj/Uni/PBL-Master-sem2/venv/lib/python3.12/site-packages (from aiohttp<4.0.0,>=3.8.6->llama-index-core<0.11.0,>=0.10.20->llama-index-vector-stores-postgres) (23.2.0)\r\n",
      "Requirement already satisfied: frozenlist>=1.1.1 in /home/jorj/Uni/PBL-Master-sem2/venv/lib/python3.12/site-packages (from aiohttp<4.0.0,>=3.8.6->llama-index-core<0.11.0,>=0.10.20->llama-index-vector-stores-postgres) (1.4.1)\r\n",
      "Requirement already satisfied: multidict<7.0,>=4.5 in /home/jorj/Uni/PBL-Master-sem2/venv/lib/python3.12/site-packages (from aiohttp<4.0.0,>=3.8.6->llama-index-core<0.11.0,>=0.10.20->llama-index-vector-stores-postgres) (6.0.5)\r\n",
      "Requirement already satisfied: yarl<2.0,>=1.0 in /home/jorj/Uni/PBL-Master-sem2/venv/lib/python3.12/site-packages (from aiohttp<4.0.0,>=3.8.6->llama-index-core<0.11.0,>=0.10.20->llama-index-vector-stores-postgres) (1.9.4)\r\n",
      "Requirement already satisfied: pydantic>=1.10 in /home/jorj/Uni/PBL-Master-sem2/venv/lib/python3.12/site-packages (from llamaindex-py-client<0.2.0,>=0.1.18->llama-index-core<0.11.0,>=0.10.20->llama-index-vector-stores-postgres) (2.7.1)\r\n",
      "Requirement already satisfied: anyio in /home/jorj/Uni/PBL-Master-sem2/venv/lib/python3.12/site-packages (from httpx->llama-index-core<0.11.0,>=0.10.20->llama-index-vector-stores-postgres) (4.3.0)\r\n",
      "Requirement already satisfied: certifi in /home/jorj/Uni/PBL-Master-sem2/venv/lib/python3.12/site-packages (from httpx->llama-index-core<0.11.0,>=0.10.20->llama-index-vector-stores-postgres) (2024.2.2)\r\n",
      "Requirement already satisfied: httpcore==1.* in /home/jorj/Uni/PBL-Master-sem2/venv/lib/python3.12/site-packages (from httpx->llama-index-core<0.11.0,>=0.10.20->llama-index-vector-stores-postgres) (1.0.5)\r\n",
      "Requirement already satisfied: idna in /home/jorj/Uni/PBL-Master-sem2/venv/lib/python3.12/site-packages (from httpx->llama-index-core<0.11.0,>=0.10.20->llama-index-vector-stores-postgres) (3.7)\r\n",
      "Requirement already satisfied: sniffio in /home/jorj/Uni/PBL-Master-sem2/venv/lib/python3.12/site-packages (from httpx->llama-index-core<0.11.0,>=0.10.20->llama-index-vector-stores-postgres) (1.3.1)\r\n",
      "Requirement already satisfied: h11<0.15,>=0.13 in /home/jorj/Uni/PBL-Master-sem2/venv/lib/python3.12/site-packages (from httpcore==1.*->httpx->llama-index-core<0.11.0,>=0.10.20->llama-index-vector-stores-postgres) (0.14.0)\r\n",
      "Requirement already satisfied: click in /home/jorj/Uni/PBL-Master-sem2/venv/lib/python3.12/site-packages (from nltk<4.0.0,>=3.8.1->llama-index-core<0.11.0,>=0.10.20->llama-index-vector-stores-postgres) (8.1.7)\r\n",
      "Requirement already satisfied: joblib in /home/jorj/Uni/PBL-Master-sem2/venv/lib/python3.12/site-packages (from nltk<4.0.0,>=3.8.1->llama-index-core<0.11.0,>=0.10.20->llama-index-vector-stores-postgres) (1.4.2)\r\n",
      "Requirement already satisfied: regex>=2021.8.3 in /home/jorj/Uni/PBL-Master-sem2/venv/lib/python3.12/site-packages (from nltk<4.0.0,>=3.8.1->llama-index-core<0.11.0,>=0.10.20->llama-index-vector-stores-postgres) (2024.5.15)\r\n",
      "Requirement already satisfied: distro<2,>=1.7.0 in /home/jorj/Uni/PBL-Master-sem2/venv/lib/python3.12/site-packages (from openai>=1.1.0->llama-index-core<0.11.0,>=0.10.20->llama-index-vector-stores-postgres) (1.9.0)\r\n",
      "Requirement already satisfied: charset-normalizer<4,>=2 in /home/jorj/Uni/PBL-Master-sem2/venv/lib/python3.12/site-packages (from requests>=2.31.0->llama-index-core<0.11.0,>=0.10.20->llama-index-vector-stores-postgres) (3.3.2)\r\n",
      "Requirement already satisfied: urllib3<3,>=1.21.1 in /home/jorj/Uni/PBL-Master-sem2/venv/lib/python3.12/site-packages (from requests>=2.31.0->llama-index-core<0.11.0,>=0.10.20->llama-index-vector-stores-postgres) (2.2.1)\r\n",
      "Requirement already satisfied: mypy-extensions>=0.3.0 in /home/jorj/Uni/PBL-Master-sem2/venv/lib/python3.12/site-packages (from typing-inspect>=0.8.0->llama-index-core<0.11.0,>=0.10.20->llama-index-vector-stores-postgres) (1.0.0)\r\n",
      "Requirement already satisfied: marshmallow<4.0.0,>=3.18.0 in /home/jorj/Uni/PBL-Master-sem2/venv/lib/python3.12/site-packages (from dataclasses-json->llama-index-core<0.11.0,>=0.10.20->llama-index-vector-stores-postgres) (3.21.2)\r\n",
      "Requirement already satisfied: python-dateutil>=2.8.2 in /home/jorj/Uni/PBL-Master-sem2/venv/lib/python3.12/site-packages (from pandas->llama-index-core<0.11.0,>=0.10.20->llama-index-vector-stores-postgres) (2.9.0.post0)\r\n",
      "Requirement already satisfied: pytz>=2020.1 in /home/jorj/Uni/PBL-Master-sem2/venv/lib/python3.12/site-packages (from pandas->llama-index-core<0.11.0,>=0.10.20->llama-index-vector-stores-postgres) (2024.1)\r\n",
      "Requirement already satisfied: tzdata>=2022.7 in /home/jorj/Uni/PBL-Master-sem2/venv/lib/python3.12/site-packages (from pandas->llama-index-core<0.11.0,>=0.10.20->llama-index-vector-stores-postgres) (2024.1)\r\n",
      "Requirement already satisfied: packaging>=17.0 in /home/jorj/Uni/PBL-Master-sem2/venv/lib/python3.12/site-packages (from marshmallow<4.0.0,>=3.18.0->dataclasses-json->llama-index-core<0.11.0,>=0.10.20->llama-index-vector-stores-postgres) (24.0)\r\n",
      "Requirement already satisfied: annotated-types>=0.4.0 in /home/jorj/Uni/PBL-Master-sem2/venv/lib/python3.12/site-packages (from pydantic>=1.10->llamaindex-py-client<0.2.0,>=0.1.18->llama-index-core<0.11.0,>=0.10.20->llama-index-vector-stores-postgres) (0.7.0)\r\n",
      "Requirement already satisfied: pydantic-core==2.18.2 in /home/jorj/Uni/PBL-Master-sem2/venv/lib/python3.12/site-packages (from pydantic>=1.10->llamaindex-py-client<0.2.0,>=0.1.18->llama-index-core<0.11.0,>=0.10.20->llama-index-vector-stores-postgres) (2.18.2)\r\n",
      "Requirement already satisfied: six>=1.5 in /home/jorj/Uni/PBL-Master-sem2/venv/lib/python3.12/site-packages (from python-dateutil>=2.8.2->pandas->llama-index-core<0.11.0,>=0.10.20->llama-index-vector-stores-postgres) (1.16.0)\r\n",
      "Downloading llama_index_vector_stores_postgres-0.1.7-py3-none-any.whl (6.9 kB)\r\n",
      "Downloading asyncpg-0.29.0-cp312-cp312-manylinux_2_17_x86_64.manylinux2014_x86_64.whl (3.3 MB)\r\n",
      "\u001B[2K   \u001B[90m━━━━━━━━━━━━━━━━━━━━━━━━━━━━━━━━━━━━━━━━\u001B[0m \u001B[32m3.3/3.3 MB\u001B[0m \u001B[31m13.4 MB/s\u001B[0m eta \u001B[36m0:00:00\u001B[0m00:01\u001B[0m00:01\u001B[0m\r\n",
      "\u001B[?25hDownloading pgvector-0.2.5-py2.py3-none-any.whl (9.6 kB)\r\n",
      "Downloading psycopg2_binary-2.9.9-cp312-cp312-manylinux_2_17_x86_64.manylinux2014_x86_64.whl (3.0 MB)\r\n",
      "\u001B[2K   \u001B[90m━━━━━━━━━━━━━━━━━━━━━━━━━━━━━━━━━━━━━━━━\u001B[0m \u001B[32m3.0/3.0 MB\u001B[0m \u001B[31m43.4 MB/s\u001B[0m eta \u001B[36m0:00:00\u001B[0m00:01\u001B[0m00:01\u001B[0m\r\n",
      "\u001B[?25hInstalling collected packages: psycopg2-binary, pgvector, asyncpg, llama-index-vector-stores-postgres\r\n",
      "Successfully installed asyncpg-0.29.0 llama-index-vector-stores-postgres-0.1.7 pgvector-0.2.5 psycopg2-binary-2.9.9\r\n",
      "\r\n",
      "\u001B[1m[\u001B[0m\u001B[34;49mnotice\u001B[0m\u001B[1;39;49m]\u001B[0m\u001B[39;49m A new release of pip is available: \u001B[0m\u001B[31;49m23.2.1\u001B[0m\u001B[39;49m -> \u001B[0m\u001B[32;49m24.0\u001B[0m\r\n",
      "\u001B[1m[\u001B[0m\u001B[34;49mnotice\u001B[0m\u001B[1;39;49m]\u001B[0m\u001B[39;49m To update, run: \u001B[0m\u001B[32;49mpip install --upgrade pip\u001B[0m\r\n"
     ]
    }
   ],
   "execution_count": 4
  },
  {
   "metadata": {
    "ExecuteTime": {
     "end_time": "2024-05-23T21:31:23.442271Z",
     "start_time": "2024-05-23T21:31:23.438795Z"
    }
   },
   "cell_type": "code",
   "source": [
    "import pathlib\n",
    "\n",
    "images_path = pathlib.Path(\"./resources\")\n",
    "\n",
    "image_filenames = list(images_path.iterdir())\n"
   ],
   "id": "cf87e851b63a53cc",
   "outputs": [],
   "execution_count": 1
  },
  {
   "metadata": {
    "ExecuteTime": {
     "end_time": "2024-05-23T21:32:29.353912Z",
     "start_time": "2024-05-23T21:32:27.765840Z"
    }
   },
   "cell_type": "code",
   "source": [
    "from llama_index.core import SimpleDirectoryReader\n",
    "\n",
    "image_documents = SimpleDirectoryReader(input_files=image_filenames).load_data()\n"
   ],
   "id": "86cbb742e137f0bc",
   "outputs": [],
   "execution_count": 3
  },
  {
   "metadata": {
    "ExecuteTime": {
     "end_time": "2024-05-23T22:16:28.083438Z",
     "start_time": "2024-05-23T22:16:27.978213Z"
    }
   },
   "cell_type": "code",
   "source": [
    "import psycopg2\n",
    "import os\n",
    "from dotenv import load_dotenv\n",
    "\n",
    "load_dotenv()\n",
    "connection_string = os.environ['POSTGRES_CONNECTION_URL']\n",
    "db_name = \"vector_db\"\n",
    "\n",
    "conn = psycopg2.connect(connection_string)\n",
    "conn.autocommit = True\n",
    "\n",
    "with conn.cursor() as c:\n",
    "    c.execute(f\"DROP DATABASE IF EXISTS {db_name}\")\n",
    "    c.execute(f\"CREATE DATABASE {db_name}\")"
   ],
   "id": "4cc10b8569421786",
   "outputs": [],
   "execution_count": 6
  },
  {
   "metadata": {
    "ExecuteTime": {
     "end_time": "2024-05-23T22:19:05.186556Z",
     "start_time": "2024-05-23T22:19:04.855118Z"
    }
   },
   "cell_type": "code",
   "source": [
    "from llama_index.core import StorageContext, VectorStoreIndex\n",
    "from llama_index.vector_stores.postgres import PGVectorStore\n",
    "\n",
    "from sqlalchemy import make_url\n",
    "url = make_url(connection_string)\n",
    "\n",
    "vector_store = PGVectorStore.from_params(\n",
    "    database=db_name,\n",
    "    host=url.host,\n",
    "    password=url.password,\n",
    "    port=url.port,\n",
    "    user=url.username,\n",
    "    table_name=\"paul_graham_essay\",\n",
    "    embed_dim=1536,  # openai embedding dimension\n",
    ")\n",
    "storage_context = StorageContext.from_defaults(vector_store=vector_store)\n",
    "index = VectorStoreIndex.from_documents(\n",
    "    image_documents, storage_context=storage_context, show_progress=True\n",
    ")\n",
    "query_engine = index.as_query_engine()"
   ],
   "id": "504925f36fd075fe",
   "outputs": [
    {
     "data": {
      "text/plain": [
       "Parsing nodes:   0%|          | 0/12 [00:00<?, ?it/s]"
      ],
      "application/vnd.jupyter.widget-view+json": {
       "version_major": 2,
       "version_minor": 0,
       "model_id": "163b8c89e48845d6a2c9e5f4e478278c"
      }
     },
     "metadata": {},
     "output_type": "display_data"
    },
    {
     "ename": "ValueError",
     "evalue": "\n******\nCould not load OpenAI embedding model. If you intended to use OpenAI, please check your OPENAI_API_KEY.\nOriginal error:\nNo API key found for OpenAI.\nPlease set either the OPENAI_API_KEY environment variable or openai.api_key prior to initialization.\nAPI keys can be found or created at https://platform.openai.com/account/api-keys\n\nConsider using embed_model='local'.\nVisit our documentation for more embedding options: https://docs.llamaindex.ai/en/stable/module_guides/models/embeddings.html#modules\n******",
     "output_type": "error",
     "traceback": [
      "\u001B[0;31m---------------------------------------------------------------------------\u001B[0m",
      "\u001B[0;31mValueError\u001B[0m                                Traceback (most recent call last)",
      "File \u001B[0;32m~/Uni/PBL-Master-sem2/venv/lib/python3.12/site-packages/llama_index/core/embeddings/utils.py:59\u001B[0m, in \u001B[0;36mresolve_embed_model\u001B[0;34m(embed_model, callback_manager)\u001B[0m\n\u001B[1;32m     58\u001B[0m     embed_model \u001B[38;5;241m=\u001B[39m OpenAIEmbedding()\n\u001B[0;32m---> 59\u001B[0m     \u001B[43mvalidate_openai_api_key\u001B[49m\u001B[43m(\u001B[49m\u001B[43membed_model\u001B[49m\u001B[38;5;241;43m.\u001B[39;49m\u001B[43mapi_key\u001B[49m\u001B[43m)\u001B[49m\n\u001B[1;32m     60\u001B[0m \u001B[38;5;28;01mexcept\u001B[39;00m \u001B[38;5;167;01mImportError\u001B[39;00m:\n",
      "File \u001B[0;32m~/Uni/PBL-Master-sem2/venv/lib/python3.12/site-packages/llama_index/embeddings/openai/utils.py:103\u001B[0m, in \u001B[0;36mvalidate_openai_api_key\u001B[0;34m(api_key)\u001B[0m\n\u001B[1;32m    102\u001B[0m \u001B[38;5;28;01mif\u001B[39;00m \u001B[38;5;129;01mnot\u001B[39;00m openai_api_key:\n\u001B[0;32m--> 103\u001B[0m     \u001B[38;5;28;01mraise\u001B[39;00m \u001B[38;5;167;01mValueError\u001B[39;00m(MISSING_API_KEY_ERROR_MESSAGE)\n",
      "\u001B[0;31mValueError\u001B[0m: No API key found for OpenAI.\nPlease set either the OPENAI_API_KEY environment variable or openai.api_key prior to initialization.\nAPI keys can be found or created at https://platform.openai.com/account/api-keys\n",
      "\nDuring handling of the above exception, another exception occurred:\n",
      "\u001B[0;31mValueError\u001B[0m                                Traceback (most recent call last)",
      "Cell \u001B[0;32mIn[8], line 17\u001B[0m\n\u001B[1;32m      7\u001B[0m vector_store \u001B[38;5;241m=\u001B[39m PGVectorStore\u001B[38;5;241m.\u001B[39mfrom_params(\n\u001B[1;32m      8\u001B[0m     database\u001B[38;5;241m=\u001B[39mdb_name,\n\u001B[1;32m      9\u001B[0m     host\u001B[38;5;241m=\u001B[39murl\u001B[38;5;241m.\u001B[39mhost,\n\u001B[0;32m   (...)\u001B[0m\n\u001B[1;32m     14\u001B[0m     embed_dim\u001B[38;5;241m=\u001B[39m\u001B[38;5;241m1536\u001B[39m,  \u001B[38;5;66;03m# openai embedding dimension\u001B[39;00m\n\u001B[1;32m     15\u001B[0m )\n\u001B[1;32m     16\u001B[0m storage_context \u001B[38;5;241m=\u001B[39m StorageContext\u001B[38;5;241m.\u001B[39mfrom_defaults(vector_store\u001B[38;5;241m=\u001B[39mvector_store)\n\u001B[0;32m---> 17\u001B[0m index \u001B[38;5;241m=\u001B[39m \u001B[43mVectorStoreIndex\u001B[49m\u001B[38;5;241;43m.\u001B[39;49m\u001B[43mfrom_documents\u001B[49m\u001B[43m(\u001B[49m\n\u001B[1;32m     18\u001B[0m \u001B[43m    \u001B[49m\u001B[43mimage_documents\u001B[49m\u001B[43m,\u001B[49m\u001B[43m \u001B[49m\u001B[43mstorage_context\u001B[49m\u001B[38;5;241;43m=\u001B[39;49m\u001B[43mstorage_context\u001B[49m\u001B[43m,\u001B[49m\u001B[43m \u001B[49m\u001B[43mshow_progress\u001B[49m\u001B[38;5;241;43m=\u001B[39;49m\u001B[38;5;28;43;01mTrue\u001B[39;49;00m\n\u001B[1;32m     19\u001B[0m \u001B[43m)\u001B[49m\n\u001B[1;32m     20\u001B[0m query_engine \u001B[38;5;241m=\u001B[39m index\u001B[38;5;241m.\u001B[39mas_query_engine()\n",
      "File \u001B[0;32m~/Uni/PBL-Master-sem2/venv/lib/python3.12/site-packages/llama_index/core/indices/base.py:145\u001B[0m, in \u001B[0;36mBaseIndex.from_documents\u001B[0;34m(cls, documents, storage_context, show_progress, callback_manager, transformations, service_context, **kwargs)\u001B[0m\n\u001B[1;32m    136\u001B[0m     docstore\u001B[38;5;241m.\u001B[39mset_document_hash(doc\u001B[38;5;241m.\u001B[39mget_doc_id(), doc\u001B[38;5;241m.\u001B[39mhash)\n\u001B[1;32m    138\u001B[0m nodes \u001B[38;5;241m=\u001B[39m run_transformations(\n\u001B[1;32m    139\u001B[0m     documents,  \u001B[38;5;66;03m# type: ignore\u001B[39;00m\n\u001B[1;32m    140\u001B[0m     transformations,\n\u001B[1;32m    141\u001B[0m     show_progress\u001B[38;5;241m=\u001B[39mshow_progress,\n\u001B[1;32m    142\u001B[0m     \u001B[38;5;241m*\u001B[39m\u001B[38;5;241m*\u001B[39mkwargs,\n\u001B[1;32m    143\u001B[0m )\n\u001B[0;32m--> 145\u001B[0m \u001B[38;5;28;01mreturn\u001B[39;00m \u001B[38;5;28;43mcls\u001B[39;49m\u001B[43m(\u001B[49m\n\u001B[1;32m    146\u001B[0m \u001B[43m    \u001B[49m\u001B[43mnodes\u001B[49m\u001B[38;5;241;43m=\u001B[39;49m\u001B[43mnodes\u001B[49m\u001B[43m,\u001B[49m\n\u001B[1;32m    147\u001B[0m \u001B[43m    \u001B[49m\u001B[43mstorage_context\u001B[49m\u001B[38;5;241;43m=\u001B[39;49m\u001B[43mstorage_context\u001B[49m\u001B[43m,\u001B[49m\n\u001B[1;32m    148\u001B[0m \u001B[43m    \u001B[49m\u001B[43mcallback_manager\u001B[49m\u001B[38;5;241;43m=\u001B[39;49m\u001B[43mcallback_manager\u001B[49m\u001B[43m,\u001B[49m\n\u001B[1;32m    149\u001B[0m \u001B[43m    \u001B[49m\u001B[43mshow_progress\u001B[49m\u001B[38;5;241;43m=\u001B[39;49m\u001B[43mshow_progress\u001B[49m\u001B[43m,\u001B[49m\n\u001B[1;32m    150\u001B[0m \u001B[43m    \u001B[49m\u001B[43mtransformations\u001B[49m\u001B[38;5;241;43m=\u001B[39;49m\u001B[43mtransformations\u001B[49m\u001B[43m,\u001B[49m\n\u001B[1;32m    151\u001B[0m \u001B[43m    \u001B[49m\u001B[43mservice_context\u001B[49m\u001B[38;5;241;43m=\u001B[39;49m\u001B[43mservice_context\u001B[49m\u001B[43m,\u001B[49m\n\u001B[1;32m    152\u001B[0m \u001B[43m    \u001B[49m\u001B[38;5;241;43m*\u001B[39;49m\u001B[38;5;241;43m*\u001B[39;49m\u001B[43mkwargs\u001B[49m\u001B[43m,\u001B[49m\n\u001B[1;32m    153\u001B[0m \u001B[43m\u001B[49m\u001B[43m)\u001B[49m\n",
      "File \u001B[0;32m~/Uni/PBL-Master-sem2/venv/lib/python3.12/site-packages/llama_index/core/indices/vector_store/base.py:71\u001B[0m, in \u001B[0;36mVectorStoreIndex.__init__\u001B[0;34m(self, nodes, use_async, store_nodes_override, embed_model, insert_batch_size, objects, index_struct, storage_context, callback_manager, transformations, show_progress, service_context, **kwargs)\u001B[0m\n\u001B[1;32m     66\u001B[0m \u001B[38;5;28mself\u001B[39m\u001B[38;5;241m.\u001B[39m_use_async \u001B[38;5;241m=\u001B[39m use_async\n\u001B[1;32m     67\u001B[0m \u001B[38;5;28mself\u001B[39m\u001B[38;5;241m.\u001B[39m_store_nodes_override \u001B[38;5;241m=\u001B[39m store_nodes_override\n\u001B[1;32m     68\u001B[0m \u001B[38;5;28mself\u001B[39m\u001B[38;5;241m.\u001B[39m_embed_model \u001B[38;5;241m=\u001B[39m (\n\u001B[1;32m     69\u001B[0m     resolve_embed_model(embed_model, callback_manager\u001B[38;5;241m=\u001B[39mcallback_manager)\n\u001B[1;32m     70\u001B[0m     \u001B[38;5;28;01mif\u001B[39;00m embed_model\n\u001B[0;32m---> 71\u001B[0m     \u001B[38;5;28;01melse\u001B[39;00m \u001B[43membed_model_from_settings_or_context\u001B[49m\u001B[43m(\u001B[49m\u001B[43mSettings\u001B[49m\u001B[43m,\u001B[49m\u001B[43m \u001B[49m\u001B[43mservice_context\u001B[49m\u001B[43m)\u001B[49m\n\u001B[1;32m     72\u001B[0m )\n\u001B[1;32m     74\u001B[0m \u001B[38;5;28mself\u001B[39m\u001B[38;5;241m.\u001B[39m_insert_batch_size \u001B[38;5;241m=\u001B[39m insert_batch_size\n\u001B[1;32m     75\u001B[0m \u001B[38;5;28msuper\u001B[39m()\u001B[38;5;241m.\u001B[39m\u001B[38;5;21m__init__\u001B[39m(\n\u001B[1;32m     76\u001B[0m     nodes\u001B[38;5;241m=\u001B[39mnodes,\n\u001B[1;32m     77\u001B[0m     index_struct\u001B[38;5;241m=\u001B[39mindex_struct,\n\u001B[0;32m   (...)\u001B[0m\n\u001B[1;32m     84\u001B[0m     \u001B[38;5;241m*\u001B[39m\u001B[38;5;241m*\u001B[39mkwargs,\n\u001B[1;32m     85\u001B[0m )\n",
      "File \u001B[0;32m~/Uni/PBL-Master-sem2/venv/lib/python3.12/site-packages/llama_index/core/settings.py:274\u001B[0m, in \u001B[0;36membed_model_from_settings_or_context\u001B[0;34m(settings, context)\u001B[0m\n\u001B[1;32m    271\u001B[0m \u001B[38;5;28;01mif\u001B[39;00m context \u001B[38;5;129;01mis\u001B[39;00m \u001B[38;5;129;01mnot\u001B[39;00m \u001B[38;5;28;01mNone\u001B[39;00m:\n\u001B[1;32m    272\u001B[0m     \u001B[38;5;28;01mreturn\u001B[39;00m context\u001B[38;5;241m.\u001B[39membed_model\n\u001B[0;32m--> 274\u001B[0m \u001B[38;5;28;01mreturn\u001B[39;00m \u001B[43msettings\u001B[49m\u001B[38;5;241;43m.\u001B[39;49m\u001B[43membed_model\u001B[49m\n",
      "File \u001B[0;32m~/Uni/PBL-Master-sem2/venv/lib/python3.12/site-packages/llama_index/core/settings.py:67\u001B[0m, in \u001B[0;36m_Settings.embed_model\u001B[0;34m(self)\u001B[0m\n\u001B[1;32m     65\u001B[0m \u001B[38;5;250m\u001B[39m\u001B[38;5;124;03m\"\"\"Get the embedding model.\"\"\"\u001B[39;00m\n\u001B[1;32m     66\u001B[0m \u001B[38;5;28;01mif\u001B[39;00m \u001B[38;5;28mself\u001B[39m\u001B[38;5;241m.\u001B[39m_embed_model \u001B[38;5;129;01mis\u001B[39;00m \u001B[38;5;28;01mNone\u001B[39;00m:\n\u001B[0;32m---> 67\u001B[0m     \u001B[38;5;28mself\u001B[39m\u001B[38;5;241m.\u001B[39m_embed_model \u001B[38;5;241m=\u001B[39m \u001B[43mresolve_embed_model\u001B[49m\u001B[43m(\u001B[49m\u001B[38;5;124;43m\"\u001B[39;49m\u001B[38;5;124;43mdefault\u001B[39;49m\u001B[38;5;124;43m\"\u001B[39;49m\u001B[43m)\u001B[49m\n\u001B[1;32m     69\u001B[0m \u001B[38;5;28;01mif\u001B[39;00m \u001B[38;5;28mself\u001B[39m\u001B[38;5;241m.\u001B[39m_callback_manager \u001B[38;5;129;01mis\u001B[39;00m \u001B[38;5;129;01mnot\u001B[39;00m \u001B[38;5;28;01mNone\u001B[39;00m:\n\u001B[1;32m     70\u001B[0m     \u001B[38;5;28mself\u001B[39m\u001B[38;5;241m.\u001B[39m_embed_model\u001B[38;5;241m.\u001B[39mcallback_manager \u001B[38;5;241m=\u001B[39m \u001B[38;5;28mself\u001B[39m\u001B[38;5;241m.\u001B[39m_callback_manager\n",
      "File \u001B[0;32m~/Uni/PBL-Master-sem2/venv/lib/python3.12/site-packages/llama_index/core/embeddings/utils.py:66\u001B[0m, in \u001B[0;36mresolve_embed_model\u001B[0;34m(embed_model, callback_manager)\u001B[0m\n\u001B[1;32m     61\u001B[0m         \u001B[38;5;28;01mraise\u001B[39;00m \u001B[38;5;167;01mImportError\u001B[39;00m(\n\u001B[1;32m     62\u001B[0m             \u001B[38;5;124m\"\u001B[39m\u001B[38;5;124m`llama-index-embeddings-openai` package not found, \u001B[39m\u001B[38;5;124m\"\u001B[39m\n\u001B[1;32m     63\u001B[0m             \u001B[38;5;124m\"\u001B[39m\u001B[38;5;124mplease run `pip install llama-index-embeddings-openai`\u001B[39m\u001B[38;5;124m\"\u001B[39m\n\u001B[1;32m     64\u001B[0m         )\n\u001B[1;32m     65\u001B[0m     \u001B[38;5;28;01mexcept\u001B[39;00m \u001B[38;5;167;01mValueError\u001B[39;00m \u001B[38;5;28;01mas\u001B[39;00m e:\n\u001B[0;32m---> 66\u001B[0m         \u001B[38;5;28;01mraise\u001B[39;00m \u001B[38;5;167;01mValueError\u001B[39;00m(\n\u001B[1;32m     67\u001B[0m             \u001B[38;5;124m\"\u001B[39m\u001B[38;5;130;01m\\n\u001B[39;00m\u001B[38;5;124m******\u001B[39m\u001B[38;5;130;01m\\n\u001B[39;00m\u001B[38;5;124m\"\u001B[39m\n\u001B[1;32m     68\u001B[0m             \u001B[38;5;124m\"\u001B[39m\u001B[38;5;124mCould not load OpenAI embedding model. \u001B[39m\u001B[38;5;124m\"\u001B[39m\n\u001B[1;32m     69\u001B[0m             \u001B[38;5;124m\"\u001B[39m\u001B[38;5;124mIf you intended to use OpenAI, please check your OPENAI_API_KEY.\u001B[39m\u001B[38;5;130;01m\\n\u001B[39;00m\u001B[38;5;124m\"\u001B[39m\n\u001B[1;32m     70\u001B[0m             \u001B[38;5;124m\"\u001B[39m\u001B[38;5;124mOriginal error:\u001B[39m\u001B[38;5;130;01m\\n\u001B[39;00m\u001B[38;5;124m\"\u001B[39m\n\u001B[1;32m     71\u001B[0m             \u001B[38;5;124mf\u001B[39m\u001B[38;5;124m\"\u001B[39m\u001B[38;5;132;01m{\u001B[39;00me\u001B[38;5;132;01m!s}\u001B[39;00m\u001B[38;5;124m\"\u001B[39m\n\u001B[1;32m     72\u001B[0m             \u001B[38;5;124m\"\u001B[39m\u001B[38;5;130;01m\\n\u001B[39;00m\u001B[38;5;124mConsider using embed_model=\u001B[39m\u001B[38;5;124m'\u001B[39m\u001B[38;5;124mlocal\u001B[39m\u001B[38;5;124m'\u001B[39m\u001B[38;5;124m.\u001B[39m\u001B[38;5;130;01m\\n\u001B[39;00m\u001B[38;5;124m\"\u001B[39m\n\u001B[1;32m     73\u001B[0m             \u001B[38;5;124m\"\u001B[39m\u001B[38;5;124mVisit our documentation for more embedding options: \u001B[39m\u001B[38;5;124m\"\u001B[39m\n\u001B[1;32m     74\u001B[0m             \u001B[38;5;124m\"\u001B[39m\u001B[38;5;124mhttps://docs.llamaindex.ai/en/stable/module_guides/models/\u001B[39m\u001B[38;5;124m\"\u001B[39m\n\u001B[1;32m     75\u001B[0m             \u001B[38;5;124m\"\u001B[39m\u001B[38;5;124membeddings.html#modules\u001B[39m\u001B[38;5;124m\"\u001B[39m\n\u001B[1;32m     76\u001B[0m             \u001B[38;5;124m\"\u001B[39m\u001B[38;5;130;01m\\n\u001B[39;00m\u001B[38;5;124m******\u001B[39m\u001B[38;5;124m\"\u001B[39m\n\u001B[1;32m     77\u001B[0m         )\n\u001B[1;32m     78\u001B[0m \u001B[38;5;66;03m# for image multi-modal embeddings\u001B[39;00m\n\u001B[1;32m     79\u001B[0m \u001B[38;5;28;01melif\u001B[39;00m \u001B[38;5;28misinstance\u001B[39m(embed_model, \u001B[38;5;28mstr\u001B[39m) \u001B[38;5;129;01mand\u001B[39;00m embed_model\u001B[38;5;241m.\u001B[39mstartswith(\u001B[38;5;124m\"\u001B[39m\u001B[38;5;124mclip\u001B[39m\u001B[38;5;124m\"\u001B[39m):\n",
      "\u001B[0;31mValueError\u001B[0m: \n******\nCould not load OpenAI embedding model. If you intended to use OpenAI, please check your OPENAI_API_KEY.\nOriginal error:\nNo API key found for OpenAI.\nPlease set either the OPENAI_API_KEY environment variable or openai.api_key prior to initialization.\nAPI keys can be found or created at https://platform.openai.com/account/api-keys\n\nConsider using embed_model='local'.\nVisit our documentation for more embedding options: https://docs.llamaindex.ai/en/stable/module_guides/models/embeddings.html#modules\n******"
     ]
    }
   ],
   "execution_count": 8
  }
 ],
 "metadata": {
  "kernelspec": {
   "display_name": "Python 3",
   "language": "python",
   "name": "python3"
  },
  "language_info": {
   "codemirror_mode": {
    "name": "ipython",
    "version": 2
   },
   "file_extension": ".py",
   "mimetype": "text/x-python",
   "name": "python",
   "nbconvert_exporter": "python",
   "pygments_lexer": "ipython2",
   "version": "2.7.6"
  }
 },
 "nbformat": 4,
 "nbformat_minor": 5
}
