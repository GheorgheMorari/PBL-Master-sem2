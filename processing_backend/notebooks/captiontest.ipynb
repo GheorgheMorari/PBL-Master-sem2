{
 "cells": [
  {
   "cell_type": "code",
   "id": "initial_id",
   "metadata": {
    "collapsed": true,
    "ExecuteTime": {
     "end_time": "2024-06-05T21:20:41.348836Z",
     "start_time": "2024-06-05T21:20:41.209535Z"
    }
   },
   "source": [
    "from processing_backend.backend.core.adapters.api.captioning_adapter import CaptioningAdapter\n",
    "\n",
    "import os\n",
    "import dotenv\n",
    "dotenv.load_dotenv()\n",
    "\n",
    "caption_api_url = os.getenv(\"CAPTIONING_API_URL\")\n",
    "\n",
    "caption_adapter = CaptioningAdapter(caption_api_url)\n"
   ],
   "outputs": [],
   "execution_count": 1
  },
  {
   "metadata": {
    "ExecuteTime": {
     "end_time": "2024-06-05T21:20:41.364951Z",
     "start_time": "2024-06-05T21:20:41.349816Z"
    }
   },
   "cell_type": "code",
   "source": [
    "from processing_backend.backend.core.domain.image_file import B64ImageFile\n",
    "from PIL import Image\n",
    "\n",
    "image_path = \"processing_backend/notebooks/resources/kitchen_1.jpg\"\n",
    "\n",
    "image = Image.open(image_path)\n",
    "\n",
    "image_file = B64ImageFile.from_pil_image(image)\n"
   ],
   "id": "70923ed22ce70ee7",
   "outputs": [],
   "execution_count": 2
  },
  {
   "metadata": {
    "ExecuteTime": {
     "end_time": "2024-06-05T21:20:57.331170Z",
     "start_time": "2024-06-05T21:20:41.365859Z"
    }
   },
   "cell_type": "code",
   "source": [
    "caption = caption_adapter.predict_caption(image_file)\n",
    "print(caption)"
   ],
   "id": "c716d55f749c99b3",
   "outputs": [
    {
     "name": "stdout",
     "output_type": "stream",
     "text": [
      "\"The image portrays a tidy kitchen with white cabinets and a black stove top oven. It contains a microwave, toaster, coffee maker, sink, and various bottles and cups. A bowl is on the countertop, and a spoon is near the sink.\"\n"
     ]
    }
   ],
   "execution_count": 3
  }
 ],
 "metadata": {
  "kernelspec": {
   "display_name": "Python 3",
   "language": "python",
   "name": "python3"
  },
  "language_info": {
   "codemirror_mode": {
    "name": "ipython",
    "version": 2
   },
   "file_extension": ".py",
   "mimetype": "text/x-python",
   "name": "python",
   "nbconvert_exporter": "python",
   "pygments_lexer": "ipython2",
   "version": "2.7.6"
  }
 },
 "nbformat": 4,
 "nbformat_minor": 5
}
