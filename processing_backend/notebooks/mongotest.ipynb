{
 "cells": [
  {
   "cell_type": "code",
   "id": "initial_id",
   "metadata": {
    "collapsed": true,
    "ExecuteTime": {
     "end_time": "2024-06-05T18:18:24.149079Z",
     "start_time": "2024-06-05T18:18:24.089642Z"
    }
   },
   "source": "from pymongo import MongoClient",
   "outputs": [],
   "execution_count": 1
  },
  {
   "metadata": {
    "ExecuteTime": {
     "end_time": "2024-06-05T18:18:24.161677Z",
     "start_time": "2024-06-05T18:18:24.150145Z"
    }
   },
   "cell_type": "code",
   "source": [
    "import os\n",
    "import dotenv\n",
    "dotenv.load_dotenv()\n",
    "client = MongoClient(os.environ['METADATA_REPOSITORY_MONGO_DB_AUTH_URL'])"
   ],
   "id": "19d135d827ff76ae",
   "outputs": [],
   "execution_count": 2
  },
  {
   "metadata": {
    "ExecuteTime": {
     "end_time": "2024-06-05T18:18:24.166429Z",
     "start_time": "2024-06-05T18:18:24.163112Z"
    }
   },
   "cell_type": "code",
   "source": [
    "db = client['test_metadata']\n",
    "collection = db['test_metadata']"
   ],
   "id": "ab4ad02f8ef11cdc",
   "outputs": [],
   "execution_count": 3
  },
  {
   "metadata": {
    "ExecuteTime": {
     "end_time": "2024-06-05T18:18:24.247126Z",
     "start_time": "2024-06-05T18:18:24.167713Z"
    }
   },
   "cell_type": "code",
   "source": [
    "\n",
    "from typing import List\n",
    "from pydantic import BaseModel\n",
    "\n",
    "\n",
    "class TestMetadata(BaseModel):\n",
    "    keywords: List[str]\n",
    "    \n"
   ],
   "id": "80216e55135b8974",
   "outputs": [],
   "execution_count": 4
  },
  {
   "metadata": {
    "ExecuteTime": {
     "end_time": "2024-06-05T18:19:36.122642Z",
     "start_time": "2024-06-05T18:19:36.120313Z"
    }
   },
   "cell_type": "code",
   "source": [
    "test_metadata = TestMetadata(keywords=['test', 'metadata', \"abc\", \"def\"])\n",
    "test_metadata2 = TestMetadata(keywords=['metadata', \"abc\", \"def\", \"ghi\"])"
   ],
   "id": "58d3f3d63d574302",
   "outputs": [],
   "execution_count": 8
  },
  {
   "metadata": {
    "ExecuteTime": {
     "end_time": "2024-06-05T18:18:24.271598Z",
     "start_time": "2024-06-05T18:18:24.251127Z"
    }
   },
   "cell_type": "code",
   "source": [
    "collection.insert_one(test_metadata.dict())\n",
    "collection.insert_one(test_metadata2.dict())"
   ],
   "id": "b863410496cc06bf",
   "outputs": [
    {
     "data": {
      "text/plain": [
       "InsertOneResult(ObjectId('6660abf042b31ad3561866ba'), acknowledged=True)"
      ]
     },
     "execution_count": 6,
     "metadata": {},
     "output_type": "execute_result"
    }
   ],
   "execution_count": 6
  },
  {
   "metadata": {
    "ExecuteTime": {
     "end_time": "2024-06-05T18:46:21.725750Z",
     "start_time": "2024-06-05T18:46:21.722084Z"
    }
   },
   "cell_type": "code",
   "source": [
    "cursor = collection.find({\"keywords\": {\"$in\": [\"metadata\", \"ghi\"]}})\n",
    "\n",
    "for document in cursor:\n",
    "    print(document)"
   ],
   "id": "af978366a69ba194",
   "outputs": [
    {
     "name": "stdout",
     "output_type": "stream",
     "text": [
      "{'_id': ObjectId('6660abf042b31ad3561866ba'), 'keywords': ['test', 'metadata', 'abc', 'def']}\n",
      "{'_id': ObjectId('6660ac3542b31ad3561866bb'), 'keywords': ['metadata', 'abc', 'def', 'ghi']}\n"
     ]
    }
   ],
   "execution_count": 31
  },
  {
   "metadata": {
    "ExecuteTime": {
     "end_time": "2024-06-05T18:48:41.431394Z",
     "start_time": "2024-06-05T18:48:41.428580Z"
    }
   },
   "cell_type": "code",
   "source": [
    "cursor = collection.find({\"keywords\": {\"$all\": [\"metadata\", \"ghi\"]}})\n",
    "\n",
    "for document in cursor:\n",
    "    print(document)"
   ],
   "id": "76697c7329ed5e67",
   "outputs": [
    {
     "name": "stdout",
     "output_type": "stream",
     "text": [
      "{'_id': ObjectId('6660ac3542b31ad3561866bb'), 'keywords': ['metadata', 'abc', 'def', 'ghi']}\n"
     ]
    }
   ],
   "execution_count": 34
  }
 ],
 "metadata": {
  "kernelspec": {
   "display_name": "Python 3",
   "language": "python",
   "name": "python3"
  },
  "language_info": {
   "codemirror_mode": {
    "name": "ipython",
    "version": 2
   },
   "file_extension": ".py",
   "mimetype": "text/x-python",
   "name": "python",
   "nbconvert_exporter": "python",
   "pygments_lexer": "ipython2",
   "version": "2.7.6"
  }
 },
 "nbformat": 4,
 "nbformat_minor": 5
}
